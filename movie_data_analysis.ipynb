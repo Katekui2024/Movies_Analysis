{
 "cells": [
  {
   "cell_type": "markdown",
   "id": "f7ae685c-ee59-42e8-8310-dda08360e9db",
   "metadata": {},
   "source": [
    "# 4. Data Preparation \n",
    "\n"
   ]
  },
  {
   "cell_type": "code",
   "execution_count": 1,
   "id": "931c9baa-aa16-4c62-a4b0-146876ba2975",
   "metadata": {},
   "outputs": [],
   "source": [
    "# import the necessary libraries\n",
    "import pandas as pd\n",
    "import numpy as np\n",
    "import matplotlib.pyplot as plt\n",
    "import statsmodels.api as sm\n",
    "from sklearn.linear_model import LinearRegression\n",
    "import seaborn as sns\n",
    "import sqlite3"
   ]
  },
  {
   "cell_type": "markdown",
   "id": "f5b3ff2f-390b-4f5e-b746-974b1691d981",
   "metadata": {},
   "source": [
    "## 4.1 Reading the Data"
   ]
  },
  {
   "cell_type": "code",
   "execution_count": 2,
   "id": "c3bff8bd-be49-4f2d-98c5-4f9200778060",
   "metadata": {},
   "outputs": [
    {
     "data": {
      "text/html": [
       "<div>\n",
       "<style scoped>\n",
       "    .dataframe tbody tr th:only-of-type {\n",
       "        vertical-align: middle;\n",
       "    }\n",
       "\n",
       "    .dataframe tbody tr th {\n",
       "        vertical-align: top;\n",
       "    }\n",
       "\n",
       "    .dataframe thead th {\n",
       "        text-align: right;\n",
       "    }\n",
       "</style>\n",
       "<table border=\"1\" class=\"dataframe\">\n",
       "  <thead>\n",
       "    <tr style=\"text-align: right;\">\n",
       "      <th></th>\n",
       "      <th>id</th>\n",
       "      <th>release_date</th>\n",
       "      <th>movie</th>\n",
       "      <th>production_budget</th>\n",
       "      <th>domestic_gross</th>\n",
       "      <th>worldwide_gross</th>\n",
       "    </tr>\n",
       "  </thead>\n",
       "  <tbody>\n",
       "    <tr>\n",
       "      <th>0</th>\n",
       "      <td>1</td>\n",
       "      <td>Dec 18, 2009</td>\n",
       "      <td>Avatar</td>\n",
       "      <td>$425,000,000</td>\n",
       "      <td>$760,507,625</td>\n",
       "      <td>$2,776,345,279</td>\n",
       "    </tr>\n",
       "    <tr>\n",
       "      <th>1</th>\n",
       "      <td>2</td>\n",
       "      <td>May 20, 2011</td>\n",
       "      <td>Pirates of the Caribbean: On Stranger Tides</td>\n",
       "      <td>$410,600,000</td>\n",
       "      <td>$241,063,875</td>\n",
       "      <td>$1,045,663,875</td>\n",
       "    </tr>\n",
       "    <tr>\n",
       "      <th>2</th>\n",
       "      <td>3</td>\n",
       "      <td>Jun 7, 2019</td>\n",
       "      <td>Dark Phoenix</td>\n",
       "      <td>$350,000,000</td>\n",
       "      <td>$42,762,350</td>\n",
       "      <td>$149,762,350</td>\n",
       "    </tr>\n",
       "    <tr>\n",
       "      <th>3</th>\n",
       "      <td>4</td>\n",
       "      <td>May 1, 2015</td>\n",
       "      <td>Avengers: Age of Ultron</td>\n",
       "      <td>$330,600,000</td>\n",
       "      <td>$459,005,868</td>\n",
       "      <td>$1,403,013,963</td>\n",
       "    </tr>\n",
       "    <tr>\n",
       "      <th>4</th>\n",
       "      <td>5</td>\n",
       "      <td>Dec 15, 2017</td>\n",
       "      <td>Star Wars Ep. VIII: The Last Jedi</td>\n",
       "      <td>$317,000,000</td>\n",
       "      <td>$620,181,382</td>\n",
       "      <td>$1,316,721,747</td>\n",
       "    </tr>\n",
       "  </tbody>\n",
       "</table>\n",
       "</div>"
      ],
      "text/plain": [
       "   id  release_date                                        movie  \\\n",
       "0   1  Dec 18, 2009                                       Avatar   \n",
       "1   2  May 20, 2011  Pirates of the Caribbean: On Stranger Tides   \n",
       "2   3   Jun 7, 2019                                 Dark Phoenix   \n",
       "3   4   May 1, 2015                      Avengers: Age of Ultron   \n",
       "4   5  Dec 15, 2017            Star Wars Ep. VIII: The Last Jedi   \n",
       "\n",
       "  production_budget domestic_gross worldwide_gross  \n",
       "0      $425,000,000   $760,507,625  $2,776,345,279  \n",
       "1      $410,600,000   $241,063,875  $1,045,663,875  \n",
       "2      $350,000,000    $42,762,350    $149,762,350  \n",
       "3      $330,600,000   $459,005,868  $1,403,013,963  \n",
       "4      $317,000,000   $620,181,382  $1,316,721,747  "
      ]
     },
     "execution_count": 2,
     "metadata": {},
     "output_type": "execute_result"
    }
   ],
   "source": [
    "#reading the movie_budget dataset \n",
    "tn_movie_budgets = pd.read_csv(\"data/tn.movie_budgets.csv\")\n",
    "tn_movie_budgets .head()"
   ]
  },
  {
   "cell_type": "code",
   "execution_count": 3,
   "id": "e2348b54-0c31-4d19-9102-29466fd9aeff",
   "metadata": {},
   "outputs": [
    {
     "data": {
      "text/html": [
       "<div>\n",
       "<style scoped>\n",
       "    .dataframe tbody tr th:only-of-type {\n",
       "        vertical-align: middle;\n",
       "    }\n",
       "\n",
       "    .dataframe tbody tr th {\n",
       "        vertical-align: top;\n",
       "    }\n",
       "\n",
       "    .dataframe thead th {\n",
       "        text-align: right;\n",
       "    }\n",
       "</style>\n",
       "<table border=\"1\" class=\"dataframe\">\n",
       "  <thead>\n",
       "    <tr style=\"text-align: right;\">\n",
       "      <th></th>\n",
       "      <th>id</th>\n",
       "      <th>review</th>\n",
       "      <th>rating</th>\n",
       "      <th>fresh</th>\n",
       "      <th>critic</th>\n",
       "      <th>top_critic</th>\n",
       "      <th>publisher</th>\n",
       "      <th>date</th>\n",
       "    </tr>\n",
       "  </thead>\n",
       "  <tbody>\n",
       "    <tr>\n",
       "      <th>0</th>\n",
       "      <td>3</td>\n",
       "      <td>A distinctly gallows take on contemporary fina...</td>\n",
       "      <td>3/5</td>\n",
       "      <td>fresh</td>\n",
       "      <td>PJ Nabarro</td>\n",
       "      <td>0</td>\n",
       "      <td>Patrick Nabarro</td>\n",
       "      <td>November 10, 2018</td>\n",
       "    </tr>\n",
       "    <tr>\n",
       "      <th>1</th>\n",
       "      <td>3</td>\n",
       "      <td>It's an allegory in search of a meaning that n...</td>\n",
       "      <td>NaN</td>\n",
       "      <td>rotten</td>\n",
       "      <td>Annalee Newitz</td>\n",
       "      <td>0</td>\n",
       "      <td>io9.com</td>\n",
       "      <td>May 23, 2018</td>\n",
       "    </tr>\n",
       "    <tr>\n",
       "      <th>2</th>\n",
       "      <td>3</td>\n",
       "      <td>... life lived in a bubble in financial dealin...</td>\n",
       "      <td>NaN</td>\n",
       "      <td>fresh</td>\n",
       "      <td>Sean Axmaker</td>\n",
       "      <td>0</td>\n",
       "      <td>Stream on Demand</td>\n",
       "      <td>January 4, 2018</td>\n",
       "    </tr>\n",
       "    <tr>\n",
       "      <th>3</th>\n",
       "      <td>3</td>\n",
       "      <td>Continuing along a line introduced in last yea...</td>\n",
       "      <td>NaN</td>\n",
       "      <td>fresh</td>\n",
       "      <td>Daniel Kasman</td>\n",
       "      <td>0</td>\n",
       "      <td>MUBI</td>\n",
       "      <td>November 16, 2017</td>\n",
       "    </tr>\n",
       "    <tr>\n",
       "      <th>4</th>\n",
       "      <td>3</td>\n",
       "      <td>... a perverse twist on neorealism...</td>\n",
       "      <td>NaN</td>\n",
       "      <td>fresh</td>\n",
       "      <td>NaN</td>\n",
       "      <td>0</td>\n",
       "      <td>Cinema Scope</td>\n",
       "      <td>October 12, 2017</td>\n",
       "    </tr>\n",
       "  </tbody>\n",
       "</table>\n",
       "</div>"
      ],
      "text/plain": [
       "   id                                             review rating   fresh  \\\n",
       "0   3  A distinctly gallows take on contemporary fina...    3/5   fresh   \n",
       "1   3  It's an allegory in search of a meaning that n...    NaN  rotten   \n",
       "2   3  ... life lived in a bubble in financial dealin...    NaN   fresh   \n",
       "3   3  Continuing along a line introduced in last yea...    NaN   fresh   \n",
       "4   3             ... a perverse twist on neorealism...     NaN   fresh   \n",
       "\n",
       "           critic  top_critic         publisher               date  \n",
       "0      PJ Nabarro           0   Patrick Nabarro  November 10, 2018  \n",
       "1  Annalee Newitz           0           io9.com       May 23, 2018  \n",
       "2    Sean Axmaker           0  Stream on Demand    January 4, 2018  \n",
       "3   Daniel Kasman           0              MUBI  November 16, 2017  \n",
       "4             NaN           0      Cinema Scope   October 12, 2017  "
      ]
     },
     "execution_count": 3,
     "metadata": {},
     "output_type": "execute_result"
    }
   ],
   "source": [
    "#reading the rt.reviews dataset\n",
    "rt_reviews = pd.read_csv(\"data/rt.reviews.tsv\", sep='\\t', encoding ='latin-1')\n",
    "rt_reviews.head()"
   ]
  },
  {
   "cell_type": "markdown",
   "id": "376c731d-f2ee-4c45-9ddb-1ef482e8f5df",
   "metadata": {},
   "source": [
    "## 4.2 Data Exploration"
   ]
  },
  {
   "cell_type": "markdown",
   "id": "304292e5-624a-419e-b2a1-71654e23478c",
   "metadata": {},
   "source": [
    "### Exploring the tn_movie_budget dataset"
   ]
  },
  {
   "cell_type": "code",
   "execution_count": 4,
   "id": "e8044512-ca7e-4cae-87d0-be9db2e4fdc7",
   "metadata": {},
   "outputs": [
    {
     "name": "stdout",
     "output_type": "stream",
     "text": [
      "<class 'pandas.core.frame.DataFrame'>\n",
      "RangeIndex: 5782 entries, 0 to 5781\n",
      "Data columns (total 6 columns):\n",
      " #   Column             Non-Null Count  Dtype \n",
      "---  ------             --------------  ----- \n",
      " 0   id                 5782 non-null   int64 \n",
      " 1   release_date       5782 non-null   object\n",
      " 2   movie              5782 non-null   object\n",
      " 3   production_budget  5782 non-null   object\n",
      " 4   domestic_gross     5782 non-null   object\n",
      " 5   worldwide_gross    5782 non-null   object\n",
      "dtypes: int64(1), object(5)\n",
      "memory usage: 271.2+ KB\n",
      "(5782, 6)\n"
     ]
    }
   ],
   "source": [
    "#this prints the overview information of the dataset\n",
    "tn_movie_budgets.info()\n",
    "#this prints the number of rows and columns in the dataset\n",
    "print(tn_movie_budgets.shape)"
   ]
  },
  {
   "cell_type": "code",
   "execution_count": 5,
   "id": "ec669646-57b6-4be5-9027-e6110468ad8a",
   "metadata": {},
   "outputs": [
    {
     "data": {
      "text/html": [
       "<div>\n",
       "<style scoped>\n",
       "    .dataframe tbody tr th:only-of-type {\n",
       "        vertical-align: middle;\n",
       "    }\n",
       "\n",
       "    .dataframe tbody tr th {\n",
       "        vertical-align: top;\n",
       "    }\n",
       "\n",
       "    .dataframe thead th {\n",
       "        text-align: right;\n",
       "    }\n",
       "</style>\n",
       "<table border=\"1\" class=\"dataframe\">\n",
       "  <thead>\n",
       "    <tr style=\"text-align: right;\">\n",
       "      <th></th>\n",
       "      <th>id</th>\n",
       "    </tr>\n",
       "  </thead>\n",
       "  <tbody>\n",
       "    <tr>\n",
       "      <th>count</th>\n",
       "      <td>5782.000000</td>\n",
       "    </tr>\n",
       "    <tr>\n",
       "      <th>mean</th>\n",
       "      <td>50.372363</td>\n",
       "    </tr>\n",
       "    <tr>\n",
       "      <th>std</th>\n",
       "      <td>28.821076</td>\n",
       "    </tr>\n",
       "    <tr>\n",
       "      <th>min</th>\n",
       "      <td>1.000000</td>\n",
       "    </tr>\n",
       "    <tr>\n",
       "      <th>25%</th>\n",
       "      <td>25.000000</td>\n",
       "    </tr>\n",
       "    <tr>\n",
       "      <th>50%</th>\n",
       "      <td>50.000000</td>\n",
       "    </tr>\n",
       "    <tr>\n",
       "      <th>75%</th>\n",
       "      <td>75.000000</td>\n",
       "    </tr>\n",
       "    <tr>\n",
       "      <th>max</th>\n",
       "      <td>100.000000</td>\n",
       "    </tr>\n",
       "  </tbody>\n",
       "</table>\n",
       "</div>"
      ],
      "text/plain": [
       "                id\n",
       "count  5782.000000\n",
       "mean     50.372363\n",
       "std      28.821076\n",
       "min       1.000000\n",
       "25%      25.000000\n",
       "50%      50.000000\n",
       "75%      75.000000\n",
       "max     100.000000"
      ]
     },
     "execution_count": 5,
     "metadata": {},
     "output_type": "execute_result"
    }
   ],
   "source": [
    "# Descreptive Analysis on Numeric features\n",
    "tn_movie_budgets.describe()"
   ]
  },
  {
   "cell_type": "code",
   "execution_count": 6,
   "id": "63503725-37b8-4e9a-aced-61fd78341ac8",
   "metadata": {},
   "outputs": [
    {
     "name": "stdout",
     "output_type": "stream",
     "text": [
      "Number of duplicates is  0\n",
      "Missing values in the dataset\n",
      "id                   0\n",
      "release_date         0\n",
      "movie                0\n",
      "production_budget    0\n",
      "domestic_gross       0\n",
      "worldwide_gross      0\n",
      "dtype: int64\n"
     ]
    }
   ],
   "source": [
    "#checking for duplicates\n",
    "print(\"Number of duplicates is \", tn_movie_budgets.duplicated().sum())\n",
    "\n",
    "#checking for missing values\n",
    "print(\"Missing values in the dataset\")\n",
    "print(tn_movie_budgets.isna().sum())"
   ]
  },
  {
   "cell_type": "markdown",
   "id": "b10a2eec-4ee7-4ed1-a0dd-3fb34862e679",
   "metadata": {},
   "source": [
    "## Exploring the rt_reviews dataset"
   ]
  },
  {
   "cell_type": "code",
   "execution_count": 7,
   "id": "dd2f692b-be9d-495d-85bb-4346c635c722",
   "metadata": {},
   "outputs": [
    {
     "name": "stdout",
     "output_type": "stream",
     "text": [
      "<class 'pandas.core.frame.DataFrame'>\n",
      "RangeIndex: 54432 entries, 0 to 54431\n",
      "Data columns (total 8 columns):\n",
      " #   Column      Non-Null Count  Dtype \n",
      "---  ------      --------------  ----- \n",
      " 0   id          54432 non-null  int64 \n",
      " 1   review      48869 non-null  object\n",
      " 2   rating      40915 non-null  object\n",
      " 3   fresh       54432 non-null  object\n",
      " 4   critic      51710 non-null  object\n",
      " 5   top_critic  54432 non-null  int64 \n",
      " 6   publisher   54123 non-null  object\n",
      " 7   date        54432 non-null  object\n",
      "dtypes: int64(2), object(6)\n",
      "memory usage: 3.3+ MB\n",
      "(54432, 8)\n"
     ]
    }
   ],
   "source": [
    "#this gives the overview  information of the dataset\n",
    "rt_reviews.info()\n",
    "#this gives the numbers of rows and columns in the dataset\n",
    "print(rt_reviews.shape)\n"
   ]
  },
  {
   "cell_type": "code",
   "execution_count": 8,
   "id": "ac50d4e5-30f5-4480-800b-b293413e2061",
   "metadata": {},
   "outputs": [
    {
     "data": {
      "text/html": [
       "<div>\n",
       "<style scoped>\n",
       "    .dataframe tbody tr th:only-of-type {\n",
       "        vertical-align: middle;\n",
       "    }\n",
       "\n",
       "    .dataframe tbody tr th {\n",
       "        vertical-align: top;\n",
       "    }\n",
       "\n",
       "    .dataframe thead th {\n",
       "        text-align: right;\n",
       "    }\n",
       "</style>\n",
       "<table border=\"1\" class=\"dataframe\">\n",
       "  <thead>\n",
       "    <tr style=\"text-align: right;\">\n",
       "      <th></th>\n",
       "      <th>id</th>\n",
       "      <th>top_critic</th>\n",
       "    </tr>\n",
       "  </thead>\n",
       "  <tbody>\n",
       "    <tr>\n",
       "      <th>count</th>\n",
       "      <td>54432.000000</td>\n",
       "      <td>54432.000000</td>\n",
       "    </tr>\n",
       "    <tr>\n",
       "      <th>mean</th>\n",
       "      <td>1045.706882</td>\n",
       "      <td>0.240594</td>\n",
       "    </tr>\n",
       "    <tr>\n",
       "      <th>std</th>\n",
       "      <td>586.657046</td>\n",
       "      <td>0.427448</td>\n",
       "    </tr>\n",
       "    <tr>\n",
       "      <th>min</th>\n",
       "      <td>3.000000</td>\n",
       "      <td>0.000000</td>\n",
       "    </tr>\n",
       "    <tr>\n",
       "      <th>25%</th>\n",
       "      <td>542.000000</td>\n",
       "      <td>0.000000</td>\n",
       "    </tr>\n",
       "    <tr>\n",
       "      <th>50%</th>\n",
       "      <td>1083.000000</td>\n",
       "      <td>0.000000</td>\n",
       "    </tr>\n",
       "    <tr>\n",
       "      <th>75%</th>\n",
       "      <td>1541.000000</td>\n",
       "      <td>0.000000</td>\n",
       "    </tr>\n",
       "    <tr>\n",
       "      <th>max</th>\n",
       "      <td>2000.000000</td>\n",
       "      <td>1.000000</td>\n",
       "    </tr>\n",
       "  </tbody>\n",
       "</table>\n",
       "</div>"
      ],
      "text/plain": [
       "                 id    top_critic\n",
       "count  54432.000000  54432.000000\n",
       "mean    1045.706882      0.240594\n",
       "std      586.657046      0.427448\n",
       "min        3.000000      0.000000\n",
       "25%      542.000000      0.000000\n",
       "50%     1083.000000      0.000000\n",
       "75%     1541.000000      0.000000\n",
       "max     2000.000000      1.000000"
      ]
     },
     "execution_count": 8,
     "metadata": {},
     "output_type": "execute_result"
    }
   ],
   "source": [
    "# Descreptive Analysis on Numeric features\n",
    "rt_reviews.describe()"
   ]
  },
  {
   "cell_type": "code",
   "execution_count": 9,
   "id": "36bbe5c0-2a2d-4a01-9272-43cd3d370a6d",
   "metadata": {},
   "outputs": [
    {
     "name": "stdout",
     "output_type": "stream",
     "text": [
      "number of duplicates in the data 9\n",
      "missing values in the dataset\n",
      "id                0\n",
      "review         5563\n",
      "rating        13517\n",
      "fresh             0\n",
      "critic         2722\n",
      "top_critic        0\n",
      "publisher       309\n",
      "date              0\n",
      "dtype: int64\n"
     ]
    }
   ],
   "source": [
    "#checking for duplicates\n",
    "print(\"number of duplicates in the data\", rt_reviews.duplicated().sum())\n",
    "\n",
    "#checking for missing values\n",
    "print( \"missing values in the dataset\")\n",
    "print(rt_reviews.isna().sum())"
   ]
  },
  {
   "cell_type": "markdown",
   "id": "9545798a-680d-4e53-8e26-a7baa1ec36d1",
   "metadata": {},
   "source": [
    "# 5. Data Cleaning"
   ]
  },
  {
   "cell_type": "markdown",
   "id": "6a82205b-6012-46f2-9e79-f22ba59cbce8",
   "metadata": {},
   "source": [
    "### 5.1 Cleaning the rt_review dataset\n",
    "We observed that there are 9 duplicates in our dataset. Moreover, there are 13517 missing values in the rating column and we decided to drop them in both cases to maintain the integrity of the dataset."
   ]
  },
  {
   "cell_type": "code",
   "execution_count": 10,
   "id": "4927086b-eb91-4600-92e0-b8a335845e26",
   "metadata": {},
   "outputs": [],
   "source": [
    "# Drop duplicates based on 'rating' column\n",
    "rt_reviews = rt_reviews.drop_duplicates(subset=['rating'])"
   ]
  },
  {
   "cell_type": "code",
   "execution_count": 13,
   "id": "79c54cae-a986-46f2-a0ae-366db9f8a9d8",
   "metadata": {},
   "outputs": [],
   "source": [
    "# droping missing values in rating columns\n",
    "# some non-numeric values in the rating column that cannot be converted to float, such as ‘C’. To handle this, you can filter out these invalid values before applying the conversion function.\n",
    "def is_valid_rating(rating):\n",
    "    try:\n",
    "        float(rating)\n",
    "        return True\n",
    "    except ValueError:\n",
    "        if '/' in rating:\n",
    "            num, denom = rating.split('/')\n",
    "            try:\n",
    "                float(num) / float(denom)\n",
    "                return True\n",
    "            except ValueError:\n",
    "                return False\n",
    "        return False\n",
    "\n",
    "rt_reviews = rt_reviews[rt_reviews['rating'].apply(is_valid_rating)]\n",
    "#convert all to string\n",
    "rt_reviews['rating'] = rt_reviews['rating'].astype(str)\n",
    "#define the conversion function\n",
    "def convert_rating(rating):\n",
    "    if '/' in rating:\n",
    "        num, denom = rating.split('/')\n",
    "        return float(num) / float(denom) * 10  # Assuming ratings are out of 10\n",
    "    return float(rating)\n",
    "rt_reviews['rating'] = rt_reviews['rating'].apply(convert_rating)\n",
    "rt_reviews.dropna(subset=['rating'], inplace=True)"
   ]
  },
  {
   "cell_type": "markdown",
   "id": "9a3a4733-5e46-4f4f-888f-acc97c0f441a",
   "metadata": {},
   "source": [
    "# 6. Explanatory Data Analysis"
   ]
  },
  {
   "cell_type": "markdown",
   "id": "c682af36-b4a0-4ac9-9976-979656dc8e85",
   "metadata": {},
   "source": [
    "## rt. review dataset\n",
    "We plotted a bar graph for the top 20 publishers against average ratings and observed that the publishers have different ratings"
   ]
  },
  {
   "cell_type": "code",
   "execution_count": 15,
   "id": "b58fc7f4-b5e9-436d-9e74-678ee6884b8e",
   "metadata": {},
   "outputs": [
    {
     "name": "stdout",
     "output_type": "stream",
     "text": [
      "publisher\n",
      "3AW                         2.000000\n",
      "AARP Movies for Grownups    3.000000\n",
      "Aisle Seat                  5.000000\n",
      "Antagony &amp; Ecstasy      7.000000\n",
      "Apollo Guide                4.250000\n",
      "                              ...   \n",
      "honeycuttshollywood.com     9.000000\n",
      "leonardmaltin.com           6.416667\n",
      "rec.arts.movies.reviews     3.166667\n",
      "sbs.com.au                  3.500000\n",
      "tonymacklin.net             5.000000\n",
      "Name: rating, Length: 74, dtype: float64\n"
     ]
    }
   ],
   "source": [
    "# some non-numeric values in the rating column that cannot be converted to float, such as ‘C’. To handle this, you can filter out these invalid values before applying the conversion function.\n",
    "def is_valid_rating(rating):\n",
    "    try:\n",
    "        float(rating)\n",
    "        return True\n",
    "    except ValueError:\n",
    "        if '/' in rating:\n",
    "            num, denom = rating.split('/')\n",
    "            try:\n",
    "                float(num) / float(denom)\n",
    "                return True\n",
    "            except ValueError:\n",
    "                return False\n",
    "        return False\n",
    "\n",
    "rt_reviews = rt_reviews[rt_reviews['rating'].apply(is_valid_rating)]\n",
    "#convert all to string\n",
    "rt_reviews['rating'] = rt_reviews['rating'].astype(str)\n",
    "#define the conversion function\n",
    "def convert_rating(rating):\n",
    "    if '/' in rating:\n",
    "        num, denom = rating.split('/')\n",
    "        return float(num) / float(denom) * 10  # Assuming ratings are out of 10\n",
    "    return float(rating)\n",
    "rt_reviews['rating'] = rt_reviews['rating'].apply(convert_rating)\n",
    "rt_reviews.dropna(subset=['rating'], inplace=True)\n",
    "\n",
    "publisher_ratings = rt_reviews.groupby('publisher')['rating'].mean()\n",
    "\n",
    "print(publisher_ratings)\n"
   ]
  },
  {
   "cell_type": "code",
   "execution_count": 16,
   "id": "351a6dc2-3da6-4a3d-babe-534fa4d07d11",
   "metadata": {},
   "outputs": [
    {
     "data": {
      "image/png": "[encoded data removed]",
      "text/plain": [
       "<Figure size 1000x800 with 1 Axes>"
      ]
     },
     "metadata": {},
     "output_type": "display_data"
    }
   ],
   "source": [
    "# Get the top 20 publishers by average rating\n",
    "top_20_rating = publisher_ratings.nlargest(n=20)\n",
    "\n",
    "# Convert the Series to a DataFrame for seaborn\n",
    "top_20_df = top_20_rating.reset_index()\n",
    "\n",
    "# Plot the bar graph\n",
    "fig, ax = plt.subplots(figsize=(10, 8))\n",
    "sns.barplot(x='rating', y='publisher', data=top_20_df, ax=ax, palette='viridis')\n",
    "\n",
    "# Set axis labels and title\n",
    "plt.xlabel('Average Rating')\n",
    "plt.ylabel('Publisher')\n",
    "plt.title('Top 20 Publishers by Average Rating')\n",
    "plt.show()"
   ]
  },
  {
   "cell_type": "code",
   "execution_count": 59,
   "id": "909ec0c4-b26a-47c1-b7c5-32f0e8f378f9",
   "metadata": {},
   "outputs": [
    {
     "name": "stdout",
     "output_type": "stream",
     "text": [
      "<class 'pandas.core.frame.DataFrame'>\n",
      "Index: 29367 entries, 0 to 54424\n",
      "Data columns (total 8 columns):\n",
      " #   Column      Non-Null Count  Dtype  \n",
      "---  ------      --------------  -----  \n",
      " 0   id          29367 non-null  int64  \n",
      " 1   review      29323 non-null  object \n",
      " 2   rating      29367 non-null  float64\n",
      " 3   fresh       29367 non-null  object \n",
      " 4   critic      28340 non-null  object \n",
      " 5   top_critic  29367 non-null  int64  \n",
      " 6   publisher   29180 non-null  object \n",
      " 7   date        29367 non-null  object \n",
      "dtypes: float64(1), int64(2), object(5)\n",
      "memory usage: 2.0+ MB\n",
      "None\n"
     ]
    }
   ],
   "source": [
    "#checking for the distribution of the publisher\n",
    "def is_valid_rating(rating):\n",
    "    try:\n",
    "        float(rating)\n",
    "        return True\n",
    "    except ValueError:\n",
    "        if '/' in rating:\n",
    "            num, denom = rating.split('/')\n",
    "            try:\n",
    "                float(num) / float(denom)\n",
    "                return True\n",
    "            except ValueError:\n",
    "                return False\n",
    "        return False\n",
    "\n",
    "rt_reviews = rt_reviews[rt_reviews['rating'].apply(is_valid_rating)]\n",
    "#convert all to string\n",
    "rt_reviews['rating'] = rt_reviews['rating'].astype(str)\n",
    "#define the conversion function\n",
    "def convert_rating(rating):\n",
    "    if '/' in rating:\n",
    "        num, denom = rating.split('/')\n",
    "        return float(num) / float(denom) * 10  # Assuming ratings are out of 10\n",
    "    return float(rating)\n",
    "rt_reviews['rating'] = rt_reviews['rating'].apply(convert_rating)\n",
    "rt_reviews.dropna(subset=['rating'], inplace=True)\n",
    "rt_reviews.replace([float('inf'), float('-inf')], float('nan'), inplace=True)\n",
    "# Get the top 20 publishers by average rating\n",
    "print(rt_reviews.info())"
   ]
  },
  {
   "cell_type": "code",
   "execution_count": null,
   "id": "7e654b46-1610-44df-a56f-b0a2ba973cd1",
   "metadata": {},
   "outputs": [],
   "source": [
    "rt_reviews['rating'] = pd.to_numeric(rt_reviews['rating'])\n",
    "rt_reviews.dropna(subset=['rating'], inplace=True)\n",
    "publisher_ratings = rt_reviews.groupby('publisher')['rating'].mean().sort_values()\n",
    "\n",
    "data = {rt_reviews[\"publisher\"],rt_reviews[\"rating\"] }\n",
    "publisher_ratings.plot(kind='barh', color='skyblue', edgecolor='black')\n",
    "plt.xlabel('Average Rating')\n",
    "plt.ylabel('Publisher')\n",
    "plt.title('Average Ratings by Publisher')\n",
    "plt.show()\n"
   ]
  },
  {
   "cell_type": "code",
   "execution_count": 11,
   "id": "c801c3ed-cf82-4d27-aad2-903658356d83",
   "metadata": {},
   "outputs": [],
   "source": [
    "# Plot the distribution of ratings for each publisher\n",
    "#sns.histplot(data=rt_reviews, x='rating', hue='publisher', multiple='stack', palette='viridis')\n",
    "#plt.xlabel('Rating')\n",
    "#plt.ylabel('Count')\n",
    "#plt.title('Distribution of Ratings by Publisher')\n",
    "#plt.show()"
   ]
  }
 ],
 "metadata": {
  "kernelspec": {
   "display_name": "Python (learn-env)",
   "language": "python",
   "name": "learn-env"
  },
  "language_info": {
   "codemirror_mode": {
    "name": "ipython",
    "version": 3
   },
   "file_extension": ".py",
   "mimetype": "text/x-python",
   "name": "python",
   "nbconvert_exporter": "python",
   "pygments_lexer": "ipython3",
   "version": "3.11.7"
  }
 },
 "nbformat": 4,
 "nbformat_minor": 5
}
